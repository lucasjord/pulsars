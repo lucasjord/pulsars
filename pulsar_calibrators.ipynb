{
 "cells": [
  {
   "cell_type": "code",
   "execution_count": 89,
   "metadata": {},
   "outputs": [],
   "source": [
    "import matplotlib.pyplot as plt\n",
    "import numpy as np\n"
   ]
  },
  {
   "cell_type": "code",
   "execution_count": 21,
   "metadata": {},
   "outputs": [],
   "source": [
    "rfc = []\n",
    "with open('rfc_2019b.txt','r+') as infile:\n",
    "    for line in infile:\n",
    "        rfc.append(line.split())"
   ]
  },
  {
   "cell_type": "code",
   "execution_count": 128,
   "metadata": {},
   "outputs": [],
   "source": [
    "R = np.array(rfc[131:])\n",
    "x = R[:,3].astype(float) + R[:,4].astype(float)/60. + R[:,5].astype(float)/3600.\n",
    "y = ((-1)**(R[:,6].astype('<U1')=='-').astype(int))*(np.abs(R[:,6].astype(float))+\n",
    "        np.abs(R[:,7].astype(float))/60.+\n",
    "        np.abs(R[:,8].astype(float))/3600.)\n",
    "S = R[:,13].astype(float)\n",
    "vx = 8.+35.0/60.+20.61153/3600.\n",
    "vy = -1*(45.0+10.0/60.+34.8755/3600.)"
   ]
  },
  {
   "cell_type": "code",
   "execution_count": 129,
   "metadata": {},
   "outputs": [
    {
     "data": {
      "text/plain": [
       "(-55, -35)"
      ]
     },
     "execution_count": 129,
     "metadata": {},
     "output_type": "execute_result"
    },
    {
     "data": {
      "image/png": "[encoded data removed]",
      "text/plain": [
       "<Figure size 360x360 with 1 Axes>"
      ]
     },
     "metadata": {
      "needs_background": "light"
     },
     "output_type": "display_data"
    }
   ],
   "source": [
    "fig, ax = plt.subplots(1,figsize=(5,5))\n",
    "ax.plot(x,y,'.')\n",
    "ax.plot(vx,vy,'ro')\n",
    "ax.set_xlim(9.0,8.0)\n",
    "ax.set_ylim(-55,-35)"
   ]
  },
  {
   "cell_type": "code",
   "execution_count": 155,
   "metadata": {},
   "outputs": [
    {
     "name": "stdout",
     "output_type": "stream",
     "text": [
      "[['C' '0729-222' 'J0731-2224' '07' '31' '31.508377' '-22' '24' '20.86668'\n",
      "  '0.14' '0.21' '0.026' '334' '1.466' '0.088' '-1.00' '-1.00' '0.449'\n",
      "  '0.049' '-1.00' '-1.00' '0.120' '0.110' 'X/S' 'rfc_2019b']\n",
      " ['C' '0823-223' 'J0826-2230' '08' '26' '01.572924' '-22' '30' '27.20305'\n",
      "  '0.12' '0.13' '-0.251' '1267' '1.076' '0.084' '0.686' '0.150' '1.083'\n",
      "  '0.571' '0.842' '0.490' '0.310' '<0.352' 'X/S' 'rfc_2019b']\n",
      " ['C' '0826-373' 'J0828-3731' '08' '28' '04.780225' '-37' '31' '06.28147'\n",
      "  '0.13' '0.10' '0.118' '7504' '2.692' '1.277' '-1.00' '-1.00' '1.804'\n",
      "  '0.847' '-1.00' '-1.00' '0.232' '0.415' 'X/S' 'rfc_2019b']\n",
      " ['C' '0834-201' 'J0836-2016' '08' '36' '39.215246' '-20' '16' '59.50421'\n",
      "  '0.11' '0.10' '0.095' '23439' '2.231' '0.290' '2.263' '1.136' '1.780'\n",
      "  '0.963' '2.179' '1.064' '1.547' '0.740' 'X/S' 'rfc_2019b']\n",
      " ['C' '0858-279' 'J0900-2808' '09' '00' '40.038781' '-28' '08' '20.34491'\n",
      "  '0.15' '0.23' '-0.262' '392' '1.392' '0.389' '3.785' '0.083' '1.412'\n",
      "  '0.137' '-1.00' '-1.00' '-1.00' '-1.00' 'X/S' 'rfc_2019b']\n",
      " ['C' '0919-260' 'J0921-2618' '09' '21' '29.353858' '-26' '18' '43.38633'\n",
      "  '0.11' '0.10' '-0.123' '14634' '1.367' '0.279' '1.535' '0.430' '1.522'\n",
      "  '0.649' '1.317' '0.848' '-1.00' '-1.00' 'X/S' 'rfc_2019b']\n",
      " ['C' '0920-397' 'J0922-3959' '09' '22' '46.418262' '-39' '59' '35.06816'\n",
      "  '0.13' '0.10' '-0.123' '13243' '1.189' '0.630' '-1.00' '-1.00' '1.126'\n",
      "  '0.627' '-1.00' '-1.00' '-1.00' '-1.00' 'X/S' 'rfc_2019b']]\n"
     ]
    }
   ],
   "source": [
    "r = R[(x>7)*(x<10)*(y<-20.)*(y>-60.)*S>1.]\n",
    "print(r)"
   ]
  },
  {
   "cell_type": "code",
   "execution_count": 169,
   "metadata": {},
   "outputs": [
    {
     "name": "stdout",
     "output_type": "stream",
     "text": [
      "C J0731-2224 07:31:31.508377 -22:24:20.86668   0.14 0.21   1.466 -1.00 0.449\n",
      "C J0826-2230 08:26:01.572924 -22:30:27.20305   0.12 0.13   1.076 0.686 1.083\n",
      "C J0828-3731 08:28:04.780225 -37:31:06.28147   0.13 0.10   2.692 -1.00 1.804\n",
      "C J0836-2016 08:36:39.215246 -20:16:59.50421   0.11 0.10   2.231 2.263 1.780\n",
      "C J0900-2808 09:00:40.038781 -28:08:20.34491   0.15 0.23   1.392 3.785 1.412\n",
      "C J0921-2618 09:21:29.353858 -26:18:43.38633   0.11 0.10   1.367 1.535 1.522\n",
      "C J0922-3959 09:22:46.418262 -39:59:35.06816   0.13 0.10   1.189 -1.00 1.126\n"
     ]
    }
   ],
   "source": [
    "for line in r[:,(0,2,3,4,5,6,7,8,9,10,13,15,17)]:\n",
    "    print('{} {} {}:{}:{} {}:{}:{}   {} {}   {} {} {}'.format(*line))"
   ]
  },
  {
   "cell_type": "code",
   "execution_count": 161,
   "metadata": {},
   "outputs": [
    {
     "data": {
      "text/plain": [
       "['C',\n",
       " '0729-222',\n",
       " 'J0731-2224',\n",
       " '07',\n",
       " '31',\n",
       " '31.508377',\n",
       " '-22',\n",
       " '24',\n",
       " '20.86668',\n",
       " '0.14',\n",
       " '0.21',\n",
       " '1.466',\n",
       " '-1.00',\n",
       " '0.449']"
      ]
     },
     "execution_count": 161,
     "metadata": {},
     "output_type": "execute_result"
    }
   ],
   "source": [
    "line.tolist()"
   ]
  },
  {
   "cell_type": "code",
   "execution_count": null,
   "metadata": {},
   "outputs": [],
   "source": []
  },
  {
   "cell_type": "code",
   "execution_count": null,
   "metadata": {},
   "outputs": [],
   "source": []
  }
 ],
 "metadata": {
  "kernelspec": {
   "display_name": "Python [conda env:analysis3] *",
   "language": "python",
   "name": "conda-env-analysis3-py"
  },
  "language_info": {
   "codemirror_mode": {
    "name": "ipython",
    "version": 3
   },
   "file_extension": ".py",
   "mimetype": "text/x-python",
   "name": "python",
   "nbconvert_exporter": "python",
   "pygments_lexer": "ipython3",
   "version": "3.7.3"
  }
 },
 "nbformat": 4,
 "nbformat_minor": 4
}
